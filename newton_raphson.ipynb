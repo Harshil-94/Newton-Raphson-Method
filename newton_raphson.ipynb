{
 "cells": [
  {
   "cell_type": "code",
   "execution_count": 1,
   "metadata": {},
   "outputs": [
    {
     "name": "stdout",
     "output_type": "stream",
     "text": [
      "The absolute value of x is: 4.778336544933898\n",
      "steps taken: 6\n"
     ]
    }
   ],
   "source": [
    "def d_m_approx(f, x, h=0.001):\n",
    "    return (f(x+h) - f(x)) / h\n",
    " \n",
    "def n_r_method(f, x, tolerance=0.001,max_iteration=200):\n",
    "    steps_taken = 0\n",
    " \n",
    "    while abs(f(x)) > tolerance:\n",
    "        df = d_m_approx(f, x)\n",
    "        x = x - f(x)/df\n",
    "        steps_taken += 1\n",
    "        if(max_iteration<=steps_taken):\n",
    "            return x, steps_taken\n",
    "    return x, steps_taken\n",
    "\n",
    "\n",
    "# please add your y value\n",
    "y=60\n",
    "f = lambda x: 2*(x**2)+3*x-y\n",
    " \n",
    "root, steps = n_r_method(f, 0)\n",
    "print (\"The absolute value of x is:\", root)\n",
    "print (\"steps taken:\", steps)\n",
    "\n"
   ]
  },
  {
   "cell_type": "code",
   "execution_count": 2,
   "metadata": {},
   "outputs": [
    {
     "name": "stdout",
     "output_type": "stream",
     "text": [
      "the closet value of y we got is :\n",
      "60.000009908103344\n"
     ]
    }
   ],
   "source": [
    "print(\"the closet value of y we got is :\")\n",
    "print(2*(root**2)+(3*root))"
   ]
  }
 ],
 "metadata": {
  "kernelspec": {
   "display_name": "Python 3",
   "language": "python",
   "name": "python3"
  },
  "language_info": {
   "codemirror_mode": {
    "name": "ipython",
    "version": 3
   },
   "file_extension": ".py",
   "mimetype": "text/x-python",
   "name": "python",
   "nbconvert_exporter": "python",
   "pygments_lexer": "ipython3",
   "version": "3.10.2"
  },
  "orig_nbformat": 4,
  "vscode": {
   "interpreter": {
    "hash": "27f6fea6f47ae512550f0b8facdbd035a93e1dd89633f7bf2dd00a2502c71d0d"
   }
  }
 },
 "nbformat": 4,
 "nbformat_minor": 2
}
